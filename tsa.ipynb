{
 "cells": [
  {
   "cell_type": "markdown",
   "metadata": {},
   "source": [
    "# Pattern Recognition hw4"
   ]
  },
  {
   "cell_type": "code",
   "execution_count": 1,
   "metadata": {},
   "outputs": [],
   "source": [
    "from hmmlearn import hmm\n",
    "import numpy as np \n",
    "import pandas as pd\n",
    "from textblob import TextBlob\n",
    "from tqdm import tqdm"
   ]
  },
  {
   "cell_type": "code",
   "execution_count": 61,
   "metadata": {},
   "outputs": [],
   "source": [
    "ts_data = pd.read_csv('test_final.csv')[:5000]\n",
    "tr_data = pd.read_csv('train_final.csv')[:5000]"
   ]
  },
  {
   "cell_type": "code",
   "execution_count": 62,
   "metadata": {},
   "outputs": [],
   "source": [
    "tr_ok = tr_data[tr_data.Sentiment == 0]\n",
    "tr_ff = tr_data[tr_data.Sentiment == 1]\n",
    "\n",
    "n_ok = len(tr_ok)\n",
    "n_ff = len(tr_ff)"
   ]
  },
  {
   "cell_type": "code",
   "execution_count": 63,
   "metadata": {},
   "outputs": [],
   "source": [
    "tr_ok_f = tr_ok.SentimentText\n",
    "tr_ff_f = tr_ff.SentimentText\n",
    "\n",
    "tr_f    = tr_data.SentimentText\n",
    "tr_l    = tr_data.Sentiment\n",
    "ts_f    = ts_data.SentimentText\n",
    "ts_l    = ts_data.Sentiment"
   ]
  },
  {
   "cell_type": "code",
   "execution_count": 64,
   "metadata": {},
   "outputs": [],
   "source": [
    "prior_ok = np.log(n_ok/(n_ok+n_ff))\n",
    "prior_ff = np.log(n_ff/(n_ok + n_ff))"
   ]
  },
  {
   "cell_type": "code",
   "execution_count": 65,
   "metadata": {},
   "outputs": [],
   "source": [
    "class Embed():\n",
    "    def __init__(self, tr_features):\n",
    "        self.dict = {}\n",
    "        for f in tqdm(tr_features):\n",
    "            for word in TextBlob(f).words:\n",
    "                if str(word) in self.dict:\n",
    "                    self.dict[str(word)] += 1\n",
    "                else:\n",
    "                    self.dict[str(word)] = 1\n",
    "        self.freqs(200)\n",
    "        \n",
    "    def freqs(self , n_words):\n",
    "        freq = []\n",
    "        for word in self.dict:\n",
    "            freq.append((word, self.dict[word]))\n",
    "        freq.sort(key=lambda x:x[1] , reverse=True)\n",
    "\n",
    "        n_words = min(n_words , len(freq))\n",
    "        self.embeding = {}\n",
    "        for i in range(n_words):\n",
    "            self.embeding[freq[i][0]] = i\n",
    "        self.embeding[\"BAUM\"] = n_words\n",
    "        return freq\n",
    "\n",
    "    def trns_f(self, f):\n",
    "        ret = []\n",
    "        for word in TextBlob(f).words:\n",
    "            if word in self.embeding:\n",
    "                ret.append([self.embeding[word]])\n",
    "            else:\n",
    "                ret.append([self.embeding[\"BAUM\"]])\n",
    "        return ret\n",
    "    \n",
    "    def trns_df(self, tr_features):\n",
    "        X = []\n",
    "        lengths = []\n",
    "        for f in tqdm(tr_features):\n",
    "             em = self.trns_f(f)\n",
    "             if len(em) == 0:\n",
    "                continue\n",
    "             X = X + em\n",
    "             lengths.append(len(em))\n",
    "        return np.array(X).reshape(-1, 1) , np.array(lengths).reshape(-1,)\n",
    "        "
   ]
  },
  {
   "cell_type": "code",
   "execution_count": 66,
   "metadata": {
    "tags": [
     "outputPrepend"
    ]
   },
   "outputs": [
    {
     "output_type": "stream",
     "name": "stderr",
     "text": "100%|██████████| 3555/3555 [00:01<00:00, 1859.02it/s]\n100%|██████████| 1445/1445 [00:00<00:00, 1936.69it/s]\n"
    }
   ],
   "source": [
    "embed_ok = Embed(tr_ok_f)\n",
    "embed_ff = Embed(tr_ff_f)"
   ]
  },
  {
   "cell_type": "code",
   "execution_count": 67,
   "metadata": {},
   "outputs": [],
   "source": [
    "model_ok = hmm.MultinomialHMM(n_components=20)\n",
    "model_ff = hmm.MultinomialHMM(n_components=20)"
   ]
  },
  {
   "cell_type": "code",
   "execution_count": 54,
   "metadata": {},
   "outputs": [
    {
     "output_type": "stream",
     "name": "stderr",
     "text": "100%|██████████| 1392/1392 [00:00<00:00, 1615.45it/s]\n"
    },
    {
     "output_type": "execute_result",
     "data": {
      "text/plain": "MultinomialHMM(algorithm='viterbi', init_params='ste', n_components=20,\n               n_iter=10, params='ste',\n               random_state=RandomState(MT19937) at 0x7F23E00A5360,\n               startprob_prior=1.0, tol=0.01, transmat_prior=1.0,\n               verbose=False)"
     },
     "metadata": {},
     "execution_count": 54
    }
   ],
   "source": [
    "X, lengths = embed_ok.trns_df(tr_ok_f)\n",
    "model_ok.fit(X, lengths)"
   ]
  },
  {
   "cell_type": "code",
   "execution_count": 55,
   "metadata": {},
   "outputs": [
    {
     "output_type": "stream",
     "name": "stderr",
     "text": "100%|██████████| 608/608 [00:00<00:00, 1822.74it/s]\n"
    },
    {
     "output_type": "execute_result",
     "data": {
      "text/plain": "MultinomialHMM(algorithm='viterbi', init_params='ste', n_components=20,\n               n_iter=10, params='ste',\n               random_state=RandomState(MT19937) at 0x7F23E00A5360,\n               startprob_prior=1.0, tol=0.01, transmat_prior=1.0,\n               verbose=False)"
     },
     "metadata": {},
     "execution_count": 55
    }
   ],
   "source": [
    "X, lengths = embed_ff.trns_df(tr_ff_f)\n",
    "model_ff.fit(X, lengths)"
   ]
  },
  {
   "cell_type": "code",
   "execution_count": 58,
   "metadata": {},
   "outputs": [],
   "source": [
    "class bayes_log():\n",
    "    def __init__(self, p0, p1 , m0, m1 , e0 , e1):\n",
    "        self.p0 = p0\n",
    "        self.m0 = m0\n",
    "        self.e0 = e0\n",
    "\n",
    "        self.p1 = p1\n",
    "        self.m1 = m1\n",
    "        self.e1 = e1\n",
    "\n",
    "    \n",
    "    def pred(self, f):\n",
    "        f0 = self.e0.trns_f(f)\n",
    "        f1 = self.e1.trns_f(f)\n",
    "        if len(f0)== 0 or len(f1)==0:\n",
    "            print(\"kossher\")\n",
    "            return 0\n",
    "        if self.p0 + self.m0.score(f0) >= self.p1 + self.m1.score(f1):\n",
    "            return 0\n",
    "        else:\n",
    "            return 1\n",
    "    \n",
    "    def predict(self, fs):\n",
    "        pred = []\n",
    "        for f in fs:\n",
    "            pred.append(self.pred(f))\n",
    "        return pred\n",
    "\n",
    "    def acc(self, pred , ls):\n",
    "        pred = np.array(pred)\n",
    "        ls   = np.array(ls)\n",
    "\n",
    "        return sum(pred == ls)/len(pred)\n",
    "\n",
    "\n",
    ""
   ]
  },
  {
   "cell_type": "code",
   "execution_count": 59,
   "metadata": {},
   "outputs": [],
   "source": [
    "clf = bayes_log(prior_ok, prior_ff, model_ok, model_ff, embed_ok , embed_ff)"
   ]
  },
  {
   "cell_type": "code",
   "execution_count": 60,
   "metadata": {},
   "outputs": [
    {
     "output_type": "stream",
     "name": "stdout",
     "text": "kossher\nkossher\nkossher\n"
    },
    {
     "output_type": "execute_result",
     "data": {
      "text/plain": "0.4435"
     },
     "metadata": {},
     "execution_count": 60
    }
   ],
   "source": [
    "clf.acc(clf.predict(tr_f) , tr_l)"
   ]
  },
  {
   "cell_type": "code",
   "execution_count": null,
   "metadata": {},
   "outputs": [],
   "source": []
  }
 ],
 "metadata": {
  "kernelspec": {
   "display_name": "Python 3",
   "language": "python",
   "name": "python3"
  },
  "language_info": {
   "codemirror_mode": {
    "name": "ipython",
    "version": 3
   },
   "file_extension": ".py",
   "mimetype": "text/x-python",
   "name": "python",
   "nbconvert_exporter": "python",
   "pygments_lexer": "ipython3",
   "version": "3.6.9-final"
  }
 },
 "nbformat": 4,
 "nbformat_minor": 4
}